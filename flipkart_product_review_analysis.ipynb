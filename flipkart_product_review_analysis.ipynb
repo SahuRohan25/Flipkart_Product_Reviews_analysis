{
 "cells": [
  {
   "cell_type": "code",
   "execution_count": 1,
   "id": "4c9e970c-9130-4ee5-b980-65d700733c82",
   "metadata": {},
   "outputs": [
    {
     "name": "stdout",
     "output_type": "stream",
     "text": [
      "\n",
      "Classification Report:\n",
      "\n",
      "              precision    recall  f1-score   support\n",
      "\n",
      "    negative       1.00      0.86      0.92      5134\n",
      "     neutral       0.98      0.84      0.91      3172\n",
      "    positive       0.96      1.00      0.98     29668\n",
      "\n",
      "    accuracy                           0.97     37974\n",
      "   macro avg       0.98      0.90      0.94     37974\n",
      "weighted avg       0.97      0.97      0.97     37974\n",
      "\n",
      "\n",
      "Confusion Matrix:\n",
      "\n",
      "[[ 4394     8   732]\n",
      " [    4  2678   490]\n",
      " [   15    33 29620]]\n",
      "\n",
      "Review: super\n",
      "Actual: positive, Predicted: positive\n",
      "\n",
      "Review: super\n",
      "Actual: positive, Predicted: positive\n",
      "\n",
      "Review: excellent\n",
      "Actual: positive, Predicted: positive\n",
      "\n",
      "Review: not good\n",
      "Actual: negative, Predicted: negative\n",
      "\n",
      "Review: nan\n",
      "Actual: positive, Predicted: positive\n"
     ]
    }
   ],
   "source": [
    "# Sentiment Analysis on Flipkart Product Reviews\n",
    "\n",
    "import pandas as pd\n",
    "import numpy as np\n",
    "import re\n",
    "from sklearn.model_selection import train_test_split\n",
    "from sklearn.feature_extraction.text import TfidfVectorizer\n",
    "from sklearn.linear_model import LogisticRegression\n",
    "from sklearn.metrics import classification_report, confusion_matrix\n",
    "\n",
    "# Load the dataset\n",
    "file_path = \"flipkart_product.csv\"\n",
    "df = pd.read_csv(file_path, encoding='ISO-8859-1')\n",
    "\n",
    "# Drop rows with missing reviews or ratings\n",
    "df.dropna(subset=['Review', 'Rate'], inplace=True)\n",
    "df['Rate'] = pd.to_numeric(df['Rate'], errors='coerce')\n",
    "df.dropna(subset=['Rate'], inplace=True)\n",
    "\n",
    "# Label Sentiments based on Rate\n",
    "def get_sentiment(rating):\n",
    "    if rating <= 2:\n",
    "        return 'negative'\n",
    "    elif rating == 3:\n",
    "        return 'neutral'\n",
    "    else:\n",
    "        return 'positive'\n",
    "\n",
    "df['Sentiment'] = df['Rate'].apply(get_sentiment)\n",
    "\n",
    "# Clean review text\n",
    "def clean_text(text):\n",
    "    text = str(text).lower()\n",
    "    text = re.sub(r\"http\\S+|www\\S+|https\\S+\", '', text)\n",
    "    text = re.sub(r\"[^a-zA-Z\\s]\", '', text)\n",
    "    text = re.sub(r\"\\s+\", ' ', text).strip()\n",
    "    return text\n",
    "\n",
    "df['Clean_Review'] = df['Review'].apply(clean_text)\n",
    "\n",
    "# Train-test split\n",
    "X = df['Clean_Review']\n",
    "y = df['Sentiment']\n",
    "X_train, X_test, y_train, y_test = train_test_split(X, y, test_size=0.2, random_state=42)\n",
    "\n",
    "# TF-IDF Vectorization\n",
    "vectorizer = TfidfVectorizer(max_features=5000)\n",
    "X_train_vec = vectorizer.fit_transform(X_train)\n",
    "X_test_vec = vectorizer.transform(X_test)\n",
    "\n",
    "# Train Logistic Regression Model\n",
    "model = LogisticRegression(max_iter=200)\n",
    "model.fit(X_train_vec, y_train)\n",
    "\n",
    "# Predict and Evaluate\n",
    "y_pred = model.predict(X_test_vec)\n",
    "print(\"\\nClassification Report:\\n\")\n",
    "print(classification_report(y_test, y_pred))\n",
    "print(\"\\nConfusion Matrix:\\n\")\n",
    "print(confusion_matrix(y_test, y_pred))\n",
    "\n",
    "# Show some predictions\n",
    "for i in range(5):\n",
    "    print(f\"\\nReview: {X_test.iloc[i]}\\nActual: {y_test.iloc[i]}, Predicted: {y_pred[i]}\")\n"
   ]
  },
  {
   "cell_type": "code",
   "execution_count": 3,
   "id": "87cf04c1-90ac-4cb9-a338-e3c45c0567ec",
   "metadata": {},
   "outputs": [
    {
     "data": {
      "text/plain": [
       "['tfidf_vectorizer.pkl']"
      ]
     },
     "execution_count": 3,
     "metadata": {},
     "output_type": "execute_result"
    }
   ],
   "source": [
    "# Add this to a separate script or notebook\n",
    "import joblib\n",
    "\n",
    "# After training your model and vectorizer:\n",
    "joblib.dump(model, \"logistic_model.pkl\")\n",
    "joblib.dump(vectorizer, \"tfidf_vectorizer.pkl\")"
   ]
  },
  {
   "cell_type": "code",
   "execution_count": null,
   "id": "27fe2c2a-2b37-4c0a-a5af-db8b684db7e2",
   "metadata": {},
   "outputs": [],
   "source": []
  }
 ],
 "metadata": {
  "kernelspec": {
   "display_name": "Python [conda env:base] *",
   "language": "python",
   "name": "conda-base-py"
  },
  "language_info": {
   "codemirror_mode": {
    "name": "ipython",
    "version": 3
   },
   "file_extension": ".py",
   "mimetype": "text/x-python",
   "name": "python",
   "nbconvert_exporter": "python",
   "pygments_lexer": "ipython3",
   "version": "3.12.7"
  }
 },
 "nbformat": 4,
 "nbformat_minor": 5
}
